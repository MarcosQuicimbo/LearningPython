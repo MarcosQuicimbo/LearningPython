{
 "cells": [
  {
   "cell_type": "markdown",
   "metadata": {},
   "source": [
    "To pass a list to a function\\\n",
    "Any kind of list\\\n",
    "The code send a list of users and greet each one"
   ]
  },
  {
   "cell_type": "code",
   "execution_count": 2,
   "metadata": {},
   "outputs": [
    {
     "name": "stdout",
     "output_type": "stream",
     "text": [
      "Hello, Marcos!\n",
      "Hello, Paulina!\n",
      "Hello, Salome!\n"
     ]
    }
   ],
   "source": [
    "def greet_users(names):\n",
    "   # \"\"\"\"Print a simple greeting to each user in the list\"\"\"\"\n",
    "    for name in names:\n",
    "        msg = \"Hello, \" + name.title() + \"!\"\n",
    "        print(msg)\n",
    "usernames = ['marcos', 'paulina', 'salome']\n",
    "greet_users(usernames)"
   ]
  },
  {
   "cell_type": "markdown",
   "metadata": {},
   "source": [
    "## Modifying a list in a function "
   ]
  },
  {
   "cell_type": "code",
   "execution_count": 5,
   "metadata": {},
   "outputs": [
    {
     "name": "stdout",
     "output_type": "stream",
     "text": [
      "Print model: dodecahedron\n",
      "Print model: robot pendant\n",
      "Print model: iphone case\n",
      "\n",
      "The following models have been printed\n",
      "dodecahedron\n",
      "robot pendant\n",
      "iphone case\n"
     ]
    }
   ],
   "source": [
    "#start with some designs that need to be printed\n",
    "unprinted_desings = ['iphone case', 'robot pendant', 'dodecahedron']\n",
    "complete_models = []\n",
    "\n",
    "#simulating printing each design, until none are left\n",
    "# move each design to complete_model after printing. \n",
    "\n",
    "while unprinted_desings:\n",
    "    current_design = unprinted_desings.pop()\n",
    "    #Simulate creating a 3D print from the design\n",
    "    print(\"Print model: \" + current_design)\n",
    "    complete_models.append(current_design)\n",
    "    \n",
    "#Display all complete models. \n",
    "print(\"\\nThe following models have been printed\")\n",
    "for completed_model in complete_models:\n",
    "    print(completed_model)    "
   ]
  },
  {
   "cell_type": "markdown",
   "metadata": {},
   "source": [
    "Using functions"
   ]
  },
  {
   "cell_type": "code",
   "execution_count": 6,
   "metadata": {},
   "outputs": [
    {
     "name": "stdout",
     "output_type": "stream",
     "text": [
      "Printing model: dodecahedron\n",
      "Printing model: robot pendant\n",
      "Printing model: iphone case\n",
      "\n",
      "The following models have been printed\n",
      "dodecahedron\n",
      "robot pendant\n",
      "iphone case\n"
     ]
    }
   ],
   "source": [
    "def print_models(unprinted_desings, complete_models):\n",
    "    \"\"\"\n",
    "    simulate printing each design, until none are left. \n",
    "    Move each design to complete_models after printing. \n",
    "    \"\"\"\n",
    "    while unprinted_desings:\n",
    "        current_design = unprinted_desings.pop()\n",
    "        \n",
    "        #simulate creating a 3D print from the design\n",
    "        print(\"Printing model: \" + current_design)\n",
    "        complete_models.append(current_design)\n",
    "def show_complete_models(complete_models):\n",
    "    \"\"\"\n",
    "    show all the models that were printed\n",
    "    \"\"\"\n",
    "    print(\"\\nThe following models have been printed\")\n",
    "    for completed_model in complete_models:\n",
    "        print(completed_model)\n",
    "unprinted_desings = ['iphone case', 'robot pendant', 'dodecahedron']\n",
    "complete_models = []\n",
    "\n",
    "print_models(unprinted_desings, complete_models)\n",
    "show_complete_models(complete_models)"
   ]
  },
  {
   "cell_type": "markdown",
   "metadata": {},
   "source": [
    "Preventing a function modifying a list "
   ]
  },
  {
   "cell_type": "markdown",
   "metadata": {},
   "source": [
    "## Try your self"
   ]
  },
  {
   "cell_type": "code",
   "execution_count": 1,
   "metadata": {},
   "outputs": [
    {
     "name": "stdout",
     "output_type": "stream",
     "text": [
      "8.9 Magicians: \n",
      "el nombre del mago es:  marcos\n",
      "el nombre del mago es:  antonio\n",
      "el nombre del mago es:  salomon\n",
      "el nombre del mago es:  mateo\n",
      "el nombre del mago es:  juan\n"
     ]
    }
   ],
   "source": [
    "print(\"8.9 Magicians: \")\n",
    "magos = ['marcos', 'antonio', 'salomon', 'mateo', 'juan']\n",
    "def show_magos(nombres_magos_lista):\n",
    "    for nombre_mago_lista in nombres_magos_lista:\n",
    "        print(\"el nombre del mago es: \", nombre_mago_lista)\n",
    "show_magos(magos)\n",
    "        "
   ]
  },
  {
   "cell_type": "code",
   "execution_count": 11,
   "metadata": {},
   "outputs": [
    {
     "name": "stdout",
     "output_type": "stream",
     "text": [
      "8.10 Great Magicians\n",
      "The great Marcos\n",
      "The great Antonio\n",
      "The great Salomon\n",
      "The great Mateo\n",
      "The great Juan\n",
      "['The great Marcos', 'The great Antonio', 'The great Salomon', 'The great Mateo', 'The great Juan']\n"
     ]
    }
   ],
   "source": [
    "print(\"8.10 Great Magicians\")\n",
    "\n",
    "def make_great(nombres_magos):\n",
    "    for i in range(len(nombres_magos)):\n",
    "        nombres_magos[i] = \"The great \" + nombres_magos[i].title()\n",
    "        print(nombres_magos[i])\n",
    "    return nombres_magos\n",
    "make_great(magos)"
   ]
  },
  {
   "cell_type": "code",
   "execution_count": 13,
   "metadata": {},
   "outputs": [
    {
     "name": "stdout",
     "output_type": "stream",
     "text": [
      "8.11 Unchanged magicians\n",
      "The great Marcos\n",
      "The great Antonio\n",
      "The great Salomon\n",
      "The great Mateo\n",
      "The great Juan\n"
     ]
    },
    {
     "data": {
      "text/plain": [
       "['marcos', 'antonio', 'salomon', 'mateo', 'juan']"
      ]
     },
     "execution_count": 13,
     "metadata": {},
     "output_type": "execute_result"
    }
   ],
   "source": [
    "\n",
    "magos = ['marcos', 'antonio', 'salomon', 'mateo', 'juan']\n",
    "print(\"8.11 Unchanged magicians\")\n",
    "newList = make_great(magos[:])\n",
    "magos\n"
   ]
  },
  {
   "cell_type": "markdown",
   "metadata": {},
   "source": [
    "## Passing an arbitrary number of arguments"
   ]
  },
  {
   "cell_type": "code",
   "execution_count": 4,
   "metadata": {},
   "outputs": [
    {
     "name": "stdout",
     "output_type": "stream",
     "text": [
      "peperoni\n",
      "mushrooms\n",
      "green peppers\n",
      "extra cheese\n"
     ]
    }
   ],
   "source": [
    "def make_pizza(*toppings): \n",
    "    for topping in toppings:\n",
    "        print(topping)\n",
    "make_pizza('peperoni')\n",
    "make_pizza('mushrooms', 'green peppers', 'extra cheese')\n"
   ]
  },
  {
   "cell_type": "markdown",
   "metadata": {},
   "source": [
    "### Mixing positional and arbitrary arguments"
   ]
  },
  {
   "cell_type": "code",
   "execution_count": 5,
   "metadata": {},
   "outputs": [
    {
     "name": "stdout",
     "output_type": "stream",
     "text": [
      "\n",
      "Making a 16-inch pizza with the following toppings:\n",
      "- peperoni\n",
      "\n",
      "Making a 23-inch pizza with the following toppings:\n",
      "- mushrooms\n",
      "- green peppers\n",
      "- extra cheese\n"
     ]
    }
   ],
   "source": [
    "def make_pizza(size, *toppings): \n",
    "    print(\"\\nMaking a \" + str(size) + \n",
    "          \"-inch pizza with the following toppings:\")\n",
    "    for topping in toppings:\n",
    "        print(\"- \" + topping)\n",
    "        \n",
    "make_pizza(16, 'peperoni')\n",
    "make_pizza(23, 'mushrooms', 'green peppers', 'extra cheese')"
   ]
  },
  {
   "cell_type": "markdown",
   "metadata": {},
   "source": [
    "### Using arbitrary keyword arguments"
   ]
  },
  {
   "cell_type": "code",
   "execution_count": 6,
   "metadata": {},
   "outputs": [
    {
     "name": "stdout",
     "output_type": "stream",
     "text": [
      "{'first_name': 'marcos', 'last_name': 'quichimbo', 'location': 'las acacias', 'field': 'data science'}\n"
     ]
    }
   ],
   "source": [
    "def build_profile(first, last, **user_info):\n",
    "    \"\"\"Build a dictionary containing everything we know about a user\"\"\"\n",
    "    profile = {}\n",
    "    profile['first_name'] = first\n",
    "    profile['last_name'] = last\n",
    "    for key, value in user_info.items():\n",
    "        profile[key] = value\n",
    "    return profile\n",
    "user_profile = build_profile('marcos', 'quichimbo', location = 'las acacias', field = 'data science')\n",
    "print(user_profile)"
   ]
  },
  {
   "cell_type": "markdown",
   "metadata": {},
   "source": [
    "## Try it yourself"
   ]
  },
  {
   "cell_type": "code",
   "execution_count": 7,
   "metadata": {},
   "outputs": [
    {
     "name": "stdout",
     "output_type": "stream",
     "text": [
      "8.12 Sandwiches: \n",
      "Your sandwiches will have:  ('pan',)\n",
      "Your sandwiches will have:  ('queso', 'jamon', 'mortadela')\n",
      "Your sandwiches will have:  ('queso', 'riz', 'mortadela', 'jamon', 'tomate', 'salsas')\n"
     ]
    }
   ],
   "source": [
    "print(\"8.12 Sandwiches: \")\n",
    "def sandwiches(*extras):\n",
    "    print(\"Your sandwiches will have: \", extras)\n",
    "sandwiches(\"pan\")\n",
    "sandwiches('queso', 'jamon', 'mortadela')\n",
    "sandwiches('queso', 'riz', 'mortadela', 'jamon', 'tomate', 'salsas')"
   ]
  },
  {
   "cell_type": "code",
   "execution_count": 1,
   "metadata": {},
   "outputs": [
    {
     "name": "stdout",
     "output_type": "stream",
     "text": [
      "8.13 User Profile\n",
      "{'first_name': 'marcos', 'last_name': 'quichimbo', 'direccion': 'las acacias', 'ocupacion': 'estudiante', 'skills': 'python'}\n"
     ]
    }
   ],
   "source": [
    "print(\"8.13 User Profile\")\n",
    "def build_profile(first, last, **user_info):\n",
    "    \"\"\"Build a dictionary containing everything we know about a user\"\"\"\n",
    "    profile = {}\n",
    "    profile['first_name'] = first\n",
    "    profile['last_name'] = last\n",
    "    for key, value in user_info.items():\n",
    "        profile[key] = value\n",
    "    return profile\n",
    "user_profile = build_profile('marcos', 'quichimbo', direccion = 'las acacias', ocupacion = 'estudiante', skills = 'python')\n",
    "print(user_profile)"
   ]
  },
  {
   "cell_type": "code",
   "execution_count": 2,
   "metadata": {},
   "outputs": [
    {
     "name": "stdout",
     "output_type": "stream",
     "text": [
      "8.14 Cars\n"
     ]
    },
    {
     "data": {
      "text/plain": [
       "{'manufacter': 'toyota',\n",
       " 'model': 'camioneta',\n",
       " 'color': 'green',\n",
       " 'cajuela': 'false'}"
      ]
     },
     "execution_count": 2,
     "metadata": {},
     "output_type": "execute_result"
    }
   ],
   "source": [
    "print(\"8.14 Cars\")\n",
    "def build_car(manufacter, model, **optional_info):\n",
    "    car = {}\n",
    "    car['manufacter'] = manufacter\n",
    "    car['model'] = model\n",
    "    for key, value in optional_info.items():\n",
    "        car[key] = value\n",
    "    return car\n",
    "carrito = build_car('toyota', 'camioneta', color = 'green', cajuela = 'false')\n",
    "carrito"
   ]
  },
  {
   "cell_type": "markdown",
   "metadata": {},
   "source": [
    "## Sotring your functions in modules"
   ]
  },
  {
   "cell_type": "code",
   "execution_count": 12,
   "metadata": {},
   "outputs": [
    {
     "ename": "ImportError",
     "evalue": "cannot import name 'make_pizza' from 'pizza' (c:\\Users\\Marcos\\DataScience\\LearningPython\\8_Functions\\4_PassingAList\\pizza.py)",
     "output_type": "error",
     "traceback": [
      "\u001b[1;31m---------------------------------------------------------------------------\u001b[0m",
      "\u001b[1;31mImportError\u001b[0m                               Traceback (most recent call last)",
      "\u001b[1;32mc:\\Users\\Marcos\\DataScience\\LearningPython\\8_Functions\\4_PassingAList\\1_PassingAList.ipynb Cell 23\u001b[0m line \u001b[0;36m1\n\u001b[1;32m----> <a href='vscode-notebook-cell:/c%3A/Users/Marcos/DataScience/LearningPython/8_Functions/4_PassingAList/1_PassingAList.ipynb#X35sZmlsZQ%3D%3D?line=0'>1</a>\u001b[0m \u001b[39mfrom\u001b[39;00m \u001b[39mpizza\u001b[39;00m \u001b[39mimport\u001b[39;00m make_pizza\n\u001b[0;32m      <a href='vscode-notebook-cell:/c%3A/Users/Marcos/DataScience/LearningPython/8_Functions/4_PassingAList/1_PassingAList.ipynb#X35sZmlsZQ%3D%3D?line=1'>2</a>\u001b[0m make_pizza(\u001b[39m16\u001b[39m, \u001b[39m'\u001b[39m\u001b[39mpepperoni\u001b[39m\u001b[39m'\u001b[39m)\n\u001b[0;32m      <a href='vscode-notebook-cell:/c%3A/Users/Marcos/DataScience/LearningPython/8_Functions/4_PassingAList/1_PassingAList.ipynb#X35sZmlsZQ%3D%3D?line=2'>3</a>\u001b[0m make_pizza(\u001b[39m12\u001b[39m, \u001b[39m'\u001b[39m\u001b[39mmushrooms\u001b[39m\u001b[39m'\u001b[39m, \u001b[39m'\u001b[39m\u001b[39mgreen peppers\u001b[39m\u001b[39m'\u001b[39m, \u001b[39m'\u001b[39m\u001b[39mextra cheese\u001b[39m\u001b[39m'\u001b[39m)\n",
      "\u001b[1;31mImportError\u001b[0m: cannot import name 'make_pizza' from 'pizza' (c:\\Users\\Marcos\\DataScience\\LearningPython\\8_Functions\\4_PassingAList\\pizza.py)"
     ]
    }
   ],
   "source": [
    "from pizza import make_pizza\n",
    "make_pizza(16, 'pepperoni')\n",
    "make_pizza(12, 'mushrooms', 'green peppers', 'extra cheese')"
   ]
  }
 ],
 "metadata": {
  "kernelspec": {
   "display_name": "projectML",
   "language": "python",
   "name": "python3"
  },
  "language_info": {
   "codemirror_mode": {
    "name": "ipython",
    "version": 3
   },
   "file_extension": ".py",
   "mimetype": "text/x-python",
   "name": "python",
   "nbconvert_exporter": "python",
   "pygments_lexer": "ipython3",
   "version": "3.11.4"
  },
  "orig_nbformat": 4
 },
 "nbformat": 4,
 "nbformat_minor": 2
}
