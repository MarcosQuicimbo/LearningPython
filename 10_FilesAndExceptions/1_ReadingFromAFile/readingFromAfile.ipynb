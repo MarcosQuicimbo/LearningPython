{
 "cells": [
  {
   "cell_type": "markdown",
   "metadata": {},
   "source": [
    "# Reading and entire file "
   ]
  },
  {
   "cell_type": "markdown",
   "metadata": {},
   "source": [
    "1. Open\n",
    "2. Read \n",
    "3. Print"
   ]
  },
  {
   "cell_type": "code",
   "execution_count": 5,
   "metadata": {},
   "outputs": [
    {
     "name": "stdout",
     "output_type": "stream",
     "text": [
      "3.1415926535 \n",
      " 8979323846 \n",
      " 2643383279\n"
     ]
    }
   ],
   "source": [
    "with open('./pi_digits.txt') as file_object: \n",
    "    content = file_object.read()\n",
    "    print(content)\n",
    "    #print(type(content))"
   ]
  },
  {
   "cell_type": "markdown",
   "metadata": {},
   "source": [
    "# File Paths"
   ]
  },
  {
   "cell_type": "code",
   "execution_count": null,
   "metadata": {},
   "outputs": [
    {
     "name": "stdout",
     "output_type": "stream",
     "text": [
      "C:/Users/Marcos/DataScience/LearningPython/10_FilesAndExceptions/1_ReadingFromAFile/\n"
     ]
    }
   ],
   "source": [
    "file_path = 'C:/Users/Marcos/DataScience/LearningPython/10_FilesAndExceptions/1_ReadingFromAFile/'\n",
    "print(file_path)"
   ]
  },
  {
   "cell_type": "markdown",
   "metadata": {},
   "source": [
    "# Reading line by line "
   ]
  },
  {
   "cell_type": "code",
   "execution_count": 2,
   "metadata": {},
   "outputs": [
    {
     "name": "stdout",
     "output_type": "stream",
     "text": [
      "3.1415926535 \n",
      "\n",
      " 8979323846 \n",
      "\n",
      " 2643383279\n"
     ]
    }
   ],
   "source": [
    "file_name = './pi_digits.txt'\n",
    "with open(file_name) as file_object: \n",
    "    for line in file_object:\n",
    "        print(line)"
   ]
  },
  {
   "cell_type": "markdown",
   "metadata": {},
   "source": [
    "# Making a list of lines of a file"
   ]
  },
  {
   "cell_type": "code",
   "execution_count": 13,
   "metadata": {},
   "outputs": [
    {
     "name": "stdout",
     "output_type": "stream",
     "text": [
      "32\n"
     ]
    }
   ],
   "source": [
    "file_name = './pi_digits.txt'\n",
    "with open(file_name) as file_object: \n",
    "    lines = file_object.readlines()\n",
    "pi = ''    \n",
    "for line in lines: \n",
    "    pi += line.strip()\n",
    "print(len(pi))"
   ]
  },
  {
   "cell_type": "markdown",
   "metadata": {},
   "source": [
    "# Working the files content\n"
   ]
  },
  {
   "cell_type": "code",
   "execution_count": 12,
   "metadata": {},
   "outputs": [
    {
     "name": "stdout",
     "output_type": "stream",
     "text": [
      "3.141592653589793238462643383279\n",
      "32\n"
     ]
    }
   ],
   "source": [
    "# path del fichero \n",
    "file_path = './pi_digits.txt'\n",
    "\n",
    "# abro el fichero \n",
    "with open(file_path) as archivo_para_trabajar:\n",
    "    lines = archivo_para_trabajar.readlines()\n",
    "    \n",
    "#trabajo con la cadena completa de pi en el fichero \\\n",
    "pi_string = ''\n",
    "for line in lines: \n",
    "    pi_string += line.strip()\n",
    "\n",
    "print(pi_string)\n",
    "print(len(pi_string))"
   ]
  },
  {
   "cell_type": "code",
   "execution_count": 20,
   "metadata": {},
   "outputs": [
    {
     "name": "stdout",
     "output_type": "stream",
     "text": [
      "<class 'str'>\n",
      "<class 'float'>\n"
     ]
    }
   ],
   "source": [
    "print(type(pi_string))\n",
    "int_pi = float(pi_string)\n",
    "print(type(int_pi))"
   ]
  },
  {
   "cell_type": "markdown",
   "metadata": {},
   "source": [
    "# Large files> One million Digits "
   ]
  },
  {
   "cell_type": "code",
   "execution_count": 23,
   "metadata": {},
   "outputs": [
    {
     "name": "stdout",
     "output_type": "stream",
     "text": [
      "Los dígitos de Pi han sido guardados en el archivo 'pi.txt'.\n"
     ]
    }
   ],
   "source": [
    "from mpmath import mp\n",
    "\n",
    "# Configurando la precisión a 2000 dígitos\n",
    "mp.dps = 2000000\n",
    "\n",
    "# Obteniendo una aproximación de pi con 2000 dígitos\n",
    "pi_aproximado = mp.pi\n",
    "\n",
    "# Guardando en el archivo pi.txt\n",
    "with open('./pi.txt', 'w') as archivo_pi:\n",
    "    archivo_pi.write(str(pi_aproximado))\n",
    "\n",
    "print(\"Los dígitos de Pi han sido guardados en el archivo 'pi.txt'.\")\n"
   ]
  },
  {
   "cell_type": "code",
   "execution_count": 22,
   "metadata": {},
   "outputs": [
    {
     "name": "stdout",
     "output_type": "stream",
     "text": [
      "3.14159265358979323846264338327950288419716939937510 ...\n"
     ]
    }
   ],
   "source": [
    "file_path = './pi.txt'\n",
    "with open(file_path) as archivo_pi:\n",
    "    lines = archivo_pi.readlines()\n",
    "\n",
    "pi_string = ''\n",
    "for line in lines:\n",
    "    pi_string += line.strip()\n",
    "print(pi_string[:52], \"...\")"
   ]
  },
  {
   "cell_type": "markdown",
   "metadata": {},
   "source": [
    "# Is your birthday contained in Pi? "
   ]
  },
  {
   "cell_type": "code",
   "execution_count": 26,
   "metadata": {},
   "outputs": [
    {
     "name": "stdout",
     "output_type": "stream",
     "text": [
      "Your birthday appears in the fist million digits of pi! \n"
     ]
    }
   ],
   "source": [
    "file_path = './pi.txt'\n",
    "with open(file_path) as file: \n",
    "    lines = file.readlines()\n",
    "pi_string = ''\n",
    "for line in lines:\n",
    "    pi_string += line.strip()\n",
    "\n",
    "birthday = input(\"Enter your birthday, in the form mmddyy: \")\n",
    "if birthday in pi_string:\n",
    "    print(\"Your birthday appears in the fist million digits of pi! \")\n",
    "else: \n",
    "    print(\"Your birthday does not appear in the first million digits of pi. \")\n"
   ]
  },
  {
   "cell_type": "markdown",
   "metadata": {},
   "source": [
    "# Try it your self"
   ]
  },
  {
   "cell_type": "code",
   "execution_count": 29,
   "metadata": {},
   "outputs": [
    {
     "name": "stdout",
     "output_type": "stream",
     "text": [
      "10.1 Learning python\n",
      "In Python you can learng to code because it sintaxis is near as the human \n",
      "In Python you can make loops\n",
      "In Python you can make plots \n",
      "In python you can make IA applications \n",
      "\n",
      "In Python you can learng to code because it sintaxis is near as the human \n",
      "In Python you can make loops\n",
      "In Python you can make plots \n",
      "In python you can make IA applications \n",
      "\n",
      "In Python you can learng to code because it sintaxis is near as the human \n",
      "In Python you can make loops\n",
      "In Python you can make plots \n",
      "In python you can make IA applications \n",
      "\n"
     ]
    }
   ],
   "source": [
    "print(\"10.1 Learning python\")\n",
    "file_path = './learning_python.txt'\n",
    "with open(file_path) as file:\n",
    "    content = file.read()\n",
    "\n",
    "for _ in range(3):\n",
    "    print(content)\n",
    "    "
   ]
  },
  {
   "cell_type": "code",
   "execution_count": 32,
   "metadata": {},
   "outputs": [
    {
     "name": "stdout",
     "output_type": "stream",
     "text": [
      "10.2 Learning C\n",
      "In C you can learng to code because it sintaxis is near as the human \n",
      "In C you can make loops\n",
      "In C you can make plots \n",
      "In python you can make IA applications \n",
      "\n",
      "In C you can learng to code because it sintaxis is near as the human \n",
      "In C you can make loops\n",
      "In C you can make plots \n",
      "In python you can make IA applications \n",
      "\n",
      "In C you can learng to code because it sintaxis is near as the human \n",
      "In C you can make loops\n",
      "In C you can make plots \n",
      "In python you can make IA applications \n",
      "\n"
     ]
    }
   ],
   "source": [
    "print(\"10.2 Learning C\")\n",
    "content.replace('Python', 'C')\n",
    "\n",
    "for _ in range(3):\n",
    "    print(content.replace('Python', 'C'))"
   ]
  }
 ],
 "metadata": {
  "kernelspec": {
   "display_name": "projectML2",
   "language": "python",
   "name": "python3"
  },
  "language_info": {
   "codemirror_mode": {
    "name": "ipython",
    "version": 3
   },
   "file_extension": ".py",
   "mimetype": "text/x-python",
   "name": "python",
   "nbconvert_exporter": "python",
   "pygments_lexer": "ipython3",
   "version": "3.8.17"
  }
 },
 "nbformat": 4,
 "nbformat_minor": 2
}
