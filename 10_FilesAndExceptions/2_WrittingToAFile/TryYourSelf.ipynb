{
 "cells": [
  {
   "cell_type": "code",
   "execution_count": 3,
   "metadata": {},
   "outputs": [
    {
     "name": "stdout",
     "output_type": "stream",
     "text": [
      "10.3 Guest\n"
     ]
    }
   ],
   "source": [
    "print('10.3 Guest')\n",
    "enter_your_name = input(\"Enter your name\")\n",
    "file_name = 'guest.txt'\n",
    "with open(file_name, 'w') as file_object:\n",
    "    file_object.write(enter_your_name)"
   ]
  },
  {
   "cell_type": "code",
   "execution_count": 1,
   "metadata": {},
   "outputs": [
    {
     "name": "stdout",
     "output_type": "stream",
     "text": [
      "10.4 Guest book\n",
      "Enter a new name? (Y/N)\n",
      "Enter a new name? (Y/N)\n",
      "Names entered\n",
      "['N']\n"
     ]
    }
   ],
   "source": [
    "print(\"10.4 Guest book\")\n",
    "flag = True\n",
    "while flag:\n",
    "    users_name = input(\"Enter your name\")\n",
    "    print(\"Enter a new name? (Y/N)\")\n",
    "    response = input()\n",
    "    if response == 'N':\n",
    "        flag = False\n",
    "   \n",
    "names = []\n",
    "for name in users_name:\n",
    "    names.append(name)\n",
    "\n",
    "print(\"Names entered\")\n",
    "print(names)"
   ]
  },
  {
   "cell_type": "code",
   "execution_count": null,
   "metadata": {},
   "outputs": [],
   "source": [
    "print('10.5 Programming poll')"
   ]
  }
 ],
 "metadata": {
  "kernelspec": {
   "display_name": "projectML2",
   "language": "python",
   "name": "python3"
  },
  "language_info": {
   "codemirror_mode": {
    "name": "ipython",
    "version": 3
   },
   "file_extension": ".py",
   "mimetype": "text/x-python",
   "name": "python",
   "nbconvert_exporter": "python",
   "pygments_lexer": "ipython3",
   "version": "3.8.17"
  }
 },
 "nbformat": 4,
 "nbformat_minor": 2
}
