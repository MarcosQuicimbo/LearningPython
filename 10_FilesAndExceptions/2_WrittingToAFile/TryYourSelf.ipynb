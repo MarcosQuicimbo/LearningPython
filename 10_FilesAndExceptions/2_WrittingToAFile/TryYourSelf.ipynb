{
 "cells": [
  {
   "cell_type": "code",
   "execution_count": 3,
   "metadata": {},
   "outputs": [
    {
     "name": "stdout",
     "output_type": "stream",
     "text": [
      "10.3 Guest\n"
     ]
    }
   ],
   "source": [
    "print('10.3 Guest')\n",
    "enter_your_name = input(\"Enter your name\")\n",
    "file_name = 'guest.txt'\n",
    "with open(file_name, 'w') as file_object:\n",
    "    file_object.write(enter_your_name)"
   ]
  },
  {
   "cell_type": "code",
   "execution_count": 8,
   "metadata": {},
   "outputs": [
    {
     "name": "stdout",
     "output_type": "stream",
     "text": [
      "10.4 Guest book\n",
      "Hello, marcos\n",
      "Hello, juan\n"
     ]
    }
   ],
   "source": [
    "print(\"10.4 Guest book\")\n",
    "flag = True\n",
    "while flag:\n",
    "    users_name = input(\"Enter a new name / q to exit\")\n",
    "    if users_name.lower() == 'q':\n",
    "        flag = False\n",
    "    else:\n",
    "        print(f\"Hello, {users_name}\")\n",
    "        file_name = 'guest_book.txt'\n",
    "        with open(file_name, 'a') as file_object:\n",
    "            file_object.write(users_name + '\\n')"
   ]
  },
  {
   "cell_type": "code",
   "execution_count": 10,
   "metadata": {},
   "outputs": [
    {
     "name": "stdout",
     "output_type": "stream",
     "text": [
      "10.5 Programming poll\n"
     ]
    }
   ],
   "source": [
    "print('10.5 Programming poll')\n",
    "while True:\n",
    "    reason = input(\"Enter a reason (q to exit)\")\n",
    "    if reason.lower() == 'q':\n",
    "        break\n",
    "    else:\n",
    "        file_name = 'reasons.txt'\n",
    "        with open(file_name, 'a') as file_object:\n",
    "            file_object.write(reason + '\\n')"
   ]
  }
 ],
 "metadata": {
  "kernelspec": {
   "display_name": "projectML2",
   "language": "python",
   "name": "python3"
  },
  "language_info": {
   "codemirror_mode": {
    "name": "ipython",
    "version": 3
   },
   "file_extension": ".py",
   "mimetype": "text/x-python",
   "name": "python",
   "nbconvert_exporter": "python",
   "pygments_lexer": "ipython3",
   "version": "3.8.17"
  }
 },
 "nbformat": 4,
 "nbformat_minor": 2
}
