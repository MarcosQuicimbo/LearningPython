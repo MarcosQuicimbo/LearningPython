{
 "cells": [
  {
   "cell_type": "markdown",
   "metadata": {},
   "source": [
    "### Importing an Entire Module"
   ]
  },
  {
   "cell_type": "code",
   "execution_count": null,
   "metadata": {},
   "outputs": [],
   "source": [
    "import Car "
   ]
  },
  {
   "cell_type": "markdown",
   "metadata": {},
   "source": [
    "### Importing All Classes from a Module\n"
   ]
  },
  {
   "cell_type": "markdown",
   "metadata": {},
   "source": [
    "from module_name import *"
   ]
  },
  {
   "cell_type": "markdown",
   "metadata": {},
   "source": [
    "### Importing a Module into a Module"
   ]
  },
  {
   "cell_type": "code",
   "execution_count": 1,
   "metadata": {},
   "outputs": [
    {
     "name": "stdout",
     "output_type": "stream",
     "text": [
      "Requirement already satisfied: pygame in c:\\users\\marcos\\anaconda3\\envs\\projectml2\\lib\\site-packages (2.1.0)\n",
      "Note: you may need to restart the kernel to use updated packages.\n"
     ]
    }
   ],
   "source": [
    "pip install pygame"
   ]
  },
  {
   "cell_type": "code",
   "execution_count": 2,
   "metadata": {},
   "outputs": [
    {
     "name": "stdout",
     "output_type": "stream",
     "text": [
      "pygame 2.1.0 (SDL 2.0.16, Python 3.8.17)\n",
      "Hello from the pygame community. https://www.pygame.org/contribute.html\n"
     ]
    },
    {
     "ename": "error",
     "evalue": "video system not initialized",
     "output_type": "error",
     "traceback": [
      "\u001b[1;31m---------------------------------------------------------------------------\u001b[0m",
      "\u001b[1;31merror\u001b[0m                                     Traceback (most recent call last)",
      "\u001b[1;32mc:\\Users\\Marcos\\DataScience\\LearningPython\\9_Classes\\OtherKindsOfImporting.ipynb Cell 7\u001b[0m line \u001b[0;36m8\n\u001b[0;32m      <a href='vscode-notebook-cell:/c%3A/Users/Marcos/DataScience/LearningPython/9_Classes/OtherKindsOfImporting.ipynb#X10sZmlsZQ%3D%3D?line=4'>5</a>\u001b[0m screen \u001b[39m=\u001b[39m pygame\u001b[39m.\u001b[39mdisplay\u001b[39m.\u001b[39mset_mode((\u001b[39m800\u001b[39m, \u001b[39m600\u001b[39m))\n\u001b[0;32m      <a href='vscode-notebook-cell:/c%3A/Users/Marcos/DataScience/LearningPython/9_Classes/OtherKindsOfImporting.ipynb#X10sZmlsZQ%3D%3D?line=6'>7</a>\u001b[0m \u001b[39mwhile\u001b[39;00m \u001b[39mTrue\u001b[39;00m:\n\u001b[1;32m----> <a href='vscode-notebook-cell:/c%3A/Users/Marcos/DataScience/LearningPython/9_Classes/OtherKindsOfImporting.ipynb#X10sZmlsZQ%3D%3D?line=7'>8</a>\u001b[0m     \u001b[39mfor\u001b[39;00m event \u001b[39min\u001b[39;00m pygame\u001b[39m.\u001b[39;49mevent\u001b[39m.\u001b[39;49mget():\n\u001b[0;32m      <a href='vscode-notebook-cell:/c%3A/Users/Marcos/DataScience/LearningPython/9_Classes/OtherKindsOfImporting.ipynb#X10sZmlsZQ%3D%3D?line=8'>9</a>\u001b[0m         \u001b[39mif\u001b[39;00m event\u001b[39m.\u001b[39mtype \u001b[39m==\u001b[39m pygame\u001b[39m.\u001b[39mQUIT:\n\u001b[0;32m     <a href='vscode-notebook-cell:/c%3A/Users/Marcos/DataScience/LearningPython/9_Classes/OtherKindsOfImporting.ipynb#X10sZmlsZQ%3D%3D?line=9'>10</a>\u001b[0m             pygame\u001b[39m.\u001b[39mquit()\n",
      "\u001b[1;31merror\u001b[0m: video system not initialized"
     ]
    },
    {
     "ename": "",
     "evalue": "",
     "output_type": "error",
     "traceback": [
      "\u001b[1;31mThe Kernel crashed while executing code in the the current cell or a previous cell. Please review the code in the cell(s) to identify a possible cause of the failure. Click <a href='https://aka.ms/vscodeJupyterKernelCrash'>here</a> for more info. View Jupyter <a href='command:jupyter.viewOutput'>log</a> for further details."
     ]
    }
   ],
   "source": [
    "import pygame\n",
    "\n",
    "pygame.init()\n",
    "\n",
    "screen = pygame.display.set_mode((800, 600))\n",
    "\n",
    "while True:\n",
    "    for event in pygame.event.get():\n",
    "        if event.type == pygame.QUIT:\n",
    "            pygame.quit()\n",
    "            quit()\n"
   ]
  }
 ],
 "metadata": {
  "kernelspec": {
   "display_name": "projectML",
   "language": "python",
   "name": "python3"
  },
  "language_info": {
   "codemirror_mode": {
    "name": "ipython",
    "version": 3
   },
   "file_extension": ".py",
   "mimetype": "text/x-python",
   "name": "python",
   "nbconvert_exporter": "python",
   "pygments_lexer": "ipython3",
   "version": "3.8.17"
  }
 },
 "nbformat": 4,
 "nbformat_minor": 2
}
