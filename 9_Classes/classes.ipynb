{
 "cells": [
  {
   "cell_type": "markdown",
   "metadata": {},
   "source": [
    "## Creating and using a class"
   ]
  },
  {
   "cell_type": "code",
   "execution_count": 6,
   "metadata": {},
   "outputs": [],
   "source": [
    "class Dog():\n",
    "    \"\"\"A simple attempt to model a dog\"\"\"\n",
    "    def __init__(self, name, age):\n",
    "        \"\"\"Initialize name and age attributes\"\"\"\n",
    "        self.name = name \n",
    "        self.age = age\n",
    "        \n",
    "    def sit(self):\n",
    "        \"\"\"Simulate a dog sitting in response to a command\"\"\"\n",
    "        print(self.name.title() + \" is now sitting\")\n",
    "        \n",
    "    def roll_over(self):\n",
    "        \"\"\"Simulate rolling over in response to a command\"\"\"\n",
    "        print(self.name.title() + \" rolled over!\")\n",
    "        "
   ]
  },
  {
   "cell_type": "markdown",
   "metadata": {},
   "source": [
    "### Making an instance from a class"
   ]
  },
  {
   "cell_type": "code",
   "execution_count": 12,
   "metadata": {},
   "outputs": [
    {
     "name": "stdout",
     "output_type": "stream",
     "text": [
      "nombre del perro:  negro\n",
      "edad del perro  12\n",
      "nombre del perro: lucy\n",
      "edad del perro 23\n"
     ]
    }
   ],
   "source": [
    "my_dog = Dog(\"negro\", 12)\n",
    "your_dog = Dog(\"lucy\", 23)\n",
    "print(\"nombre del perro: \", my_dog.name)\n",
    "print(\"edad del perro \", my_dog.age)\n",
    "\n",
    "\n",
    "print(\"nombre del perro:\", your_dog.name)\n",
    "print(\"edad del perro\", str(your_dog.age))"
   ]
  },
  {
   "cell_type": "code",
   "execution_count": 13,
   "metadata": {},
   "outputs": [
    {
     "name": "stdout",
     "output_type": "stream",
     "text": [
      "Negro rolled over!\n",
      "Negro is now sitting\n",
      "Lucy rolled over!\n",
      "Lucy is now sitting\n"
     ]
    }
   ],
   "source": [
    "my_dog.roll_over()\n",
    "my_dog.sit()\n",
    "your_dog.roll_over()\n",
    "your_dog.sit()"
   ]
  },
  {
   "cell_type": "markdown",
   "metadata": {},
   "source": [
    "### Try it yoursefl"
   ]
  },
  {
   "cell_type": "code",
   "execution_count": 4,
   "metadata": {},
   "outputs": [
    {
     "name": "stdout",
     "output_type": "stream",
     "text": [
      "9.1 Restarutant\n",
      "la gran oferta mariscos\n",
      "la gran oferta is open\n"
     ]
    }
   ],
   "source": [
    "print(\"9.1 Restarutant\")\n",
    "class Restaurant():\n",
    "    def __init__(self, name, type):\n",
    "        self.name = name\n",
    "        self.type = type\n",
    "    \n",
    "    def describe_restaurant(self):\n",
    "        nombre = self.name\n",
    "        tipo = self.type\n",
    "        print(nombre, tipo)\n",
    "    \n",
    "    def open_restaurant(self):\n",
    "        print(self.name, \"is open\")\n",
    "    \n",
    "restaurante = Restaurant(\"la gran oferta\", \"mariscos\")\n",
    "restaurante.describe_restaurant()\n",
    "restaurante.open_restaurant()"
   ]
  },
  {
   "cell_type": "code",
   "execution_count": 6,
   "metadata": {},
   "outputs": [
    {
     "name": "stdout",
     "output_type": "stream",
     "text": [
      "9.2 Three restaurants\n",
      "a z\n",
      "b y\n",
      "c m\n"
     ]
    }
   ],
   "source": [
    "print(\"9.2 Three restaurants\")\n",
    "rest1 = Restaurant('a', \"z\")\n",
    "rest2 = Restaurant('b', \"y\")\n",
    "rest3 = Restaurant('c', 'm')\n",
    "\n",
    "rest = [rest1, rest2, rest3]\n",
    "for res in rest:\n",
    "    res.describe_restaurant()"
   ]
  },
  {
   "cell_type": "code",
   "execution_count": 7,
   "metadata": {},
   "outputs": [
    {
     "name": "stdout",
     "output_type": "stream",
     "text": [
      "marcos Quichimbo\n",
      "hola marcos\n",
      "gene velazqeuz\n",
      "hola gene\n"
     ]
    }
   ],
   "source": [
    "print(\"9.3 Users\")\n",
    "class User():\n",
    "    def __init__(self, first_name, last_name, **user_info):\n",
    "        self.first_name = first_name\n",
    "        self.last_name = last_name\n",
    "    def describe_user(self):\n",
    "        print(self.first_name, self.last_name)\n",
    "    def greet_user(self):\n",
    "        print(\"hola\", self.first_name)\n",
    "        \n",
    "user1 = User(\"marcos\", \"Quichimbo\")\n",
    "user2 = User(\"gene\", \"velazqeuz\")\n",
    "user1.describe_user()\n",
    "user1.greet_user()\n",
    "user2.describe_user()\n",
    "user2.greet_user()\n"
   ]
  },
  {
   "cell_type": "markdown",
   "metadata": {},
   "source": [
    "## Working with classes and instances"
   ]
  },
  {
   "cell_type": "code",
   "execution_count": 1,
   "metadata": {},
   "outputs": [
    {
     "name": "stdout",
     "output_type": "stream",
     "text": [
      "2016 Audi A4\n"
     ]
    }
   ],
   "source": [
    "class Car(): \n",
    "    \"\"\"A simple attempt to represent a car\"\"\"\n",
    "    \n",
    "    def __init__(self, make, model, year):\n",
    "        \"\"\"Initialize attributes to describe a car\"\"\"\n",
    "        self.make = make \n",
    "        self.model = model \n",
    "        self.year = year\n",
    "        \n",
    "    def get_descriptive_name(self): \n",
    "        \"\"\"Return a neatly formatted descriptive name\"\"\"\n",
    "        long_name = str(self.year) + \" \" + self.make + ' ' + self.model \n",
    "        return long_name.title()\n",
    "my_new_car = Car('audi', 'a4', 2016)\n",
    "print(my_new_car.get_descriptive_name())"
   ]
  },
  {
   "cell_type": "markdown",
   "metadata": {},
   "source": [
    "### Setting a default value for an attribute"
   ]
  },
  {
   "cell_type": "code",
   "execution_count": 2,
   "metadata": {},
   "outputs": [
    {
     "name": "stdout",
     "output_type": "stream",
     "text": [
      "2016 Audi A4\n",
      "This car has 0 miles on it\n"
     ]
    }
   ],
   "source": [
    "class Car(): \n",
    "    \"\"\"A simple attempt to represent a car\"\"\"\n",
    "    \n",
    "    def __init__(self, make, model, year):\n",
    "        \"\"\"Initialize attributes to describe a car\"\"\"\n",
    "        self.make = make \n",
    "        self.model = model \n",
    "        self.year = year\n",
    "        self.odometer_reading = 0 \n",
    "        \n",
    "    def get_descriptive_name(self): \n",
    "        \"\"\"Return a neatly formatted descriptive name\"\"\"\n",
    "        long_name = str(self.year) + \" \" + self.make + ' ' + self.model \n",
    "        return long_name.title()\n",
    "    \n",
    "    def read_odometer(self):\n",
    "        \"\"\"Print a statement showing the car's mileage\"\"\"\n",
    "        print(\"This car has \" + str(self.odometer_reading) + \" miles on it\")\n",
    "        \n",
    "    \n",
    "my_new_car = Car('audi', 'a4', 2016)\n",
    "print(my_new_car.get_descriptive_name())\n",
    "my_new_car.read_odometer()"
   ]
  },
  {
   "cell_type": "markdown",
   "metadata": {},
   "source": [
    "### Modifying attribute values\n",
    "1. change the value directly through an instance\n",
    "2. set the value through a method\n",
    "3. increment the value through a method "
   ]
  },
  {
   "cell_type": "markdown",
   "metadata": {},
   "source": [
    "1. Modifying an attribute's value directly "
   ]
  },
  {
   "cell_type": "code",
   "execution_count": 3,
   "metadata": {},
   "outputs": [
    {
     "name": "stdout",
     "output_type": "stream",
     "text": [
      "This car has 23 miles on it\n"
     ]
    }
   ],
   "source": [
    "my_new_car.odometer_reading = 23\n",
    "my_new_car.read_odometer()"
   ]
  },
  {
   "cell_type": "markdown",
   "metadata": {},
   "source": [
    "2. Modifying an attribute's value through a method"
   ]
  },
  {
   "cell_type": "code",
   "execution_count": 6,
   "metadata": {},
   "outputs": [
    {
     "name": "stdout",
     "output_type": "stream",
     "text": [
      "2016 Audi A4\n",
      "This car has 0 miles on it\n",
      "This car has 24 miles on it\n"
     ]
    }
   ],
   "source": [
    "class Car(): \n",
    "    \"\"\"A simple attempt to represent a car\"\"\"\n",
    "    \n",
    "    def __init__(self, make, model, year):\n",
    "        \"\"\"Initialize attributes to describe a car\"\"\"\n",
    "        self.make = make \n",
    "        self.model = model \n",
    "        self.year = year\n",
    "        self.odometer_reading = 0 \n",
    "        \n",
    "    def get_descriptive_name(self): \n",
    "        \"\"\"Return a neatly formatted descriptive name\"\"\"\n",
    "        long_name = str(self.year) + \" \" + self.make + ' ' + self.model \n",
    "        return long_name.title()\n",
    "    \n",
    "    def read_odometer(self):\n",
    "        \"\"\"Print a statement showing the car's mileage\"\"\"\n",
    "        print(\"This car has \" + str(self.odometer_reading) + \" miles on it\")\n",
    "    \n",
    "    def update_odometer(self, mileage): \n",
    "        \"\"\"Set the odometer reading to the given value\"\"\"\n",
    "        self.odometer_reading = mileage    \n",
    "    \n",
    "my_new_car = Car('audi', 'a4', 2016)\n",
    "print(my_new_car.get_descriptive_name())\n",
    "my_new_car.read_odometer()\n",
    "\n",
    "\n",
    "\n",
    "my_new_car.update_odometer(24)\n",
    "my_new_car.read_odometer()"
   ]
  },
  {
   "cell_type": "markdown",
   "metadata": {},
   "source": [
    "3. Incrementing an attribute's value through a method "
   ]
  },
  {
   "cell_type": "code",
   "execution_count": 7,
   "metadata": {},
   "outputs": [
    {
     "name": "stdout",
     "output_type": "stream",
     "text": [
      "2016 Audi A4\n",
      "This car has 0 miles on it\n",
      "This car has 24 miles on it\n",
      "This car has 49 miles on it\n"
     ]
    }
   ],
   "source": [
    "class Car(): \n",
    "    \"\"\"A simple attempt to represent a car\"\"\"\n",
    "    \n",
    "    def __init__(self, make, model, year):\n",
    "        \"\"\"Initialize attributes to describe a car\"\"\"\n",
    "        self.make = make \n",
    "        self.model = model \n",
    "        self.year = year\n",
    "        self.odometer_reading = 0 \n",
    "        \n",
    "    def get_descriptive_name(self): \n",
    "        \"\"\"Return a neatly formatted descriptive name\"\"\"\n",
    "        long_name = str(self.year) + \" \" + self.make + ' ' + self.model \n",
    "        return long_name.title()\n",
    "    \n",
    "    def read_odometer(self):\n",
    "        \"\"\"Print a statement showing the car's mileage\"\"\"\n",
    "        print(\"This car has \" + str(self.odometer_reading) + \" miles on it\")\n",
    "    \n",
    "    def update_odometer(self, mileage): \n",
    "        \"\"\"Set the odometer reading to the given value\"\"\"\n",
    "        self.odometer_reading = mileage    \n",
    "        \n",
    "    def increment_odometer(self, miles):\n",
    "        \"\"\"Add the given amount to the odometer reading\"\"\"\n",
    "        self.odometer_reading += miles\n",
    "    \n",
    "my_new_car = Car('audi', 'a4', 2016)\n",
    "print(my_new_car.get_descriptive_name())\n",
    "my_new_car.read_odometer()\n",
    "\n",
    "\n",
    "\n",
    "my_new_car.update_odometer(24)\n",
    "my_new_car.read_odometer()\n",
    "\n",
    "my_new_car.increment_odometer(25)\n",
    "my_new_car.read_odometer()"
   ]
  },
  {
   "cell_type": "markdown",
   "metadata": {},
   "source": [
    "### Try it yourself"
   ]
  },
  {
   "cell_type": "code",
   "execution_count": 17,
   "metadata": {},
   "outputs": [
    {
     "name": "stdout",
     "output_type": "stream",
     "text": [
      "9.4 Number served\n",
      "9.1 Restaurant\n",
      "la gran oferta mariscos\n",
      "la gran oferta is open\n",
      "number of clients served:  108\n"
     ]
    },
    {
     "data": {
      "text/plain": [
       "108"
      ]
     },
     "execution_count": 17,
     "metadata": {},
     "output_type": "execute_result"
    }
   ],
   "source": [
    "print(\"9.4 Number served\")\n",
    "print(\"9.1 Restaurant\")\n",
    "class Restaurant():\n",
    "    def __init__(self, name, type):\n",
    "        self.name = name\n",
    "        self.type = type\n",
    "        self.number_served = 0\n",
    "    \n",
    "    def describe_restaurant(self):\n",
    "        nombre = self.name\n",
    "        tipo = self.type\n",
    "        print(nombre, tipo)\n",
    "    \n",
    "    def open_restaurant(self):\n",
    "        print(self.name, \"is open\")\n",
    "    \n",
    "    def number_clients_served(self):\n",
    "        print(\"number of clients served: \", self.number_served)\n",
    "        \n",
    "    def set_number_served(self, number_custumers): \n",
    "        self.number_served = number_custumers\n",
    "    \n",
    "    def increment_number_served(self, increment): \n",
    "        self.number_served += increment\n",
    "    \n",
    "restaurante = Restaurant(\"la gran oferta\", \"mariscos\")\n",
    "restaurante.describe_restaurant()\n",
    "restaurante.open_restaurant()\n",
    "\n",
    "restaurant = Restaurant(\"Carpa roja\", \"asados\")\n",
    "restaurant.number_served = 2\n",
    "restaurant.number_served\n",
    "\n",
    "\n",
    "restaurant.set_number_served(88)\n",
    "restaurant.number_served\n",
    "\n",
    "\n",
    "restaurant.increment_number_served(20)\n",
    "restaurant.number_clients_served()\n",
    "restaurant.number_served"
   ]
  },
  {
   "cell_type": "code",
   "execution_count": 23,
   "metadata": {},
   "outputs": [
    {
     "name": "stdout",
     "output_type": "stream",
     "text": [
      "9.5 login attempts\n",
      "9.3 Users\n",
      "marcos Quichimbo\n",
      "hola marcos\n",
      "gene velazqeuz\n",
      "hola gene\n",
      "intentos:  1\n",
      "intentos:  5\n",
      "intentos:  5\n",
      "intentos:  0\n"
     ]
    }
   ],
   "source": [
    "print(\"9.5 login attempts\")\n",
    "print(\"9.3 Users\")\n",
    "class User():\n",
    "    def __init__(self, first_name, last_name):\n",
    "        self.first_name = first_name\n",
    "        self.last_name = last_name\n",
    "        self.login_attempts = 0 \n",
    "        \n",
    "    def contador_login(self):\n",
    "        print(\"intentos: \", self.login_attempts)\n",
    "    def describe_user(self):\n",
    "        print(self.first_name, self.last_name)\n",
    "        \n",
    "    def greet_user(self):\n",
    "        print(\"hola\", self.first_name)\n",
    "    \n",
    "    def increment_login_attempts(self, increment=1):\n",
    "        self.login_attempts += increment\n",
    "        \n",
    "    def reset_login_attempts(self):\n",
    "        self.login_attempts = 0\n",
    "\n",
    "user1 = User(\"marcos\", \"Quichimbo\")\n",
    "user2 = User(\"gene\", \"velazqeuz\")\n",
    "user1.describe_user()\n",
    "user1.greet_user()\n",
    "user2.describe_user()\n",
    "user2.greet_user()\n",
    "\n",
    "\n",
    "user1.increment_login_attempts()\n",
    "user1.contador_login()\n",
    "user1.increment_login_attempts()\n",
    "user1.increment_login_attempts()\n",
    "user1.increment_login_attempts()\n",
    "user1.increment_login_attempts()\n",
    "user1.contador_login()\n",
    "user1.contador_login()\n",
    "user1.reset_login_attempts()\n",
    "user1.contador_login()"
   ]
  },
  {
   "cell_type": "markdown",
   "metadata": {},
   "source": [
    "## Inheritance"
   ]
  },
  {
   "cell_type": "markdown",
   "metadata": {},
   "source": [
    "Si la nueva clase que se desea escribir es una especialización de una clase ya escrita se puede usar la Herencia = Inheritance \\\n",
    "Toma todos los atributos y me\n",
    "todos de la clase heredada \n",
    "\n",
    "Clase padre \n",
    "Clase hijo \n",
    "\n",
    "La clase hijo puede agregar nuevos atributos y metodos especificos de la nueva clase "
   ]
  },
  {
   "cell_type": "code",
   "execution_count": 3,
   "metadata": {},
   "outputs": [
    {
     "name": "stdout",
     "output_type": "stream",
     "text": [
      "2016 Tesla Model S\n"
     ]
    }
   ],
   "source": [
    "class Car():\n",
    " \"\"\"A simple attempt to represent a car.\"\"\"\n",
    " def __init__(self, make, model, year):\n",
    "    self.make = make\n",
    "    self.model = model\n",
    "    self.year = year\n",
    "    self.odometer_reading = 0\n",
    " \n",
    " def get_descriptive_name(self):\n",
    "    long_name = str(self.year) + ' ' + self.make + ' ' + self.model\n",
    "    return long_name.title()\n",
    "    \n",
    " def read_odometer(self):\n",
    "    print(\"This car has \" + str(self.odometer_reading) + \" miles on it.\")\n",
    " \n",
    " def update_odometer(self, mileage):\n",
    "    if mileage >= self.odometer_reading:\n",
    "        self.odometer_reading = mileage\n",
    "    else:\n",
    "        print(\"You can't roll back an odometer!\")\n",
    "    \n",
    " def increment_odometer(self, miles):\n",
    "    self.odometer_reading += miles\n",
    "\n",
    "\n",
    "\n",
    "class ElectricCar(Car): \n",
    "    \n",
    "    \"\"\"Represent aspects of a car, specific to electric vehicles.\"\"\"\n",
    "    def __init__(self, make, model, year):\n",
    "        \"\"\"Initialize attributes of the parent class\"\"\"\n",
    "        super().__init__(make, model, year)\n",
    "        \n",
    "my_tesla = ElectricCar('tesla', 'model S', 2016)\n",
    "print(my_tesla.get_descriptive_name())\n"
   ]
  },
  {
   "cell_type": "markdown",
   "metadata": {},
   "source": [
    "### Defining Attributes and Methods for the child class"
   ]
  },
  {
   "cell_type": "code",
   "execution_count": 4,
   "metadata": {},
   "outputs": [
    {
     "name": "stdout",
     "output_type": "stream",
     "text": [
      "2016 Tesla Model S\n",
      "This car has a  70 -KWH battery\n"
     ]
    }
   ],
   "source": [
    "class Car():\n",
    " \"\"\"A simple attempt to represent a car.\"\"\"\n",
    " def __init__(self, make, model, year):\n",
    "    self.make = make\n",
    "    self.model = model\n",
    "    self.year = year\n",
    "    self.odometer_reading = 0\n",
    " \n",
    " def get_descriptive_name(self):\n",
    "    long_name = str(self.year) + ' ' + self.make + ' ' + self.model\n",
    "    return long_name.title()\n",
    "    \n",
    " def read_odometer(self):\n",
    "    print(\"This car has \" + str(self.odometer_reading) + \" miles on it.\")\n",
    " \n",
    " def update_odometer(self, mileage):\n",
    "    if mileage >= self.odometer_reading:\n",
    "        self.odometer_reading = mileage\n",
    "    else:\n",
    "        print(\"You can't roll back an odometer!\")\n",
    "    \n",
    " def increment_odometer(self, miles):\n",
    "    self.odometer_reading += miles\n",
    "\n",
    "\n",
    "\n",
    "class ElectricCar(Car): \n",
    "    \n",
    "    \"\"\"Represent aspects of a car, specific to electric vehicles.\"\"\"\n",
    "    def __init__(self, make, model, year):\n",
    "        \"\"\"Initialize attributes of the parent class\"\"\"\n",
    "        super().__init__(make, model, year)\n",
    "        self.baterry_size = 70\n",
    "        \n",
    "    def describe_baterry(self): \n",
    "        \"\"\"Print a statement describing the battery size\"\"\"\n",
    "        print(\"This car has a \", str(self.baterry_size), \"-KWH battery\")\n",
    "        \n",
    "        \n",
    "        \n",
    "my_tesla = ElectricCar('tesla', 'model S', 2016)\n",
    "print(my_tesla.get_descriptive_name())\n",
    "my_tesla.describe_baterry()"
   ]
  },
  {
   "cell_type": "markdown",
   "metadata": {},
   "source": [
    "### Overriding Methods from the Parent Class"
   ]
  },
  {
   "cell_type": "markdown",
   "metadata": {},
   "source": [
    "Sobreescribir metodos  que no se complementa con lo que la clase hijo intenta realizar "
   ]
  },
  {
   "cell_type": "code",
   "execution_count": null,
   "metadata": {},
   "outputs": [],
   "source": [
    "class Car():\n",
    " \"\"\"A simple attempt to represent a car.\"\"\"\n",
    " def __init__(self, make, model, year):\n",
    "    self.make = make\n",
    "    self.model = model\n",
    "    self.year = year\n",
    "    self.odometer_reading = 0\n",
    " \n",
    " def get_descriptive_name(self):\n",
    "    long_name = str(self.year) + ' ' + self.make + ' ' + self.model\n",
    "    return long_name.title()\n",
    "    \n",
    " def read_odometer(self):\n",
    "    print(\"This car has \" + str(self.odometer_reading) + \" miles on it.\")\n",
    " \n",
    " def update_odometer(self, mileage):\n",
    "    if mileage >= self.odometer_reading:\n",
    "        self.odometer_reading = mileage\n",
    "    else:\n",
    "        print(\"You can't roll back an odometer!\")\n",
    "    \n",
    " def increment_odometer(self, miles):\n",
    "    self.odometer_reading += miles\n",
    "\n",
    "\n",
    "\n",
    "class ElectricCar(Car): \n",
    "    \n",
    "    \"\"\"Represent aspects of a car, specific to electric vehicles.\"\"\"\n",
    "    def __init__(self, make, model, year):\n",
    "        \"\"\"Initialize attributes of the parent class\"\"\"\n",
    "        super().__init__(make, model, year)\n",
    "        self.battery_size = 70\n",
    "        \n",
    "    def describe_battery(self): \n",
    "        \"\"\"Print a statement describing the battery size\"\"\"\n",
    "        print(\"This car has a \", str(self.battery_size), \"-KWH battery\")\n",
    "      \n",
    "    def fill_gas_tank():\n",
    "        \"\"\"Electric car don't have gas tanks\"\"\"  \n",
    "        print(\"This car doesn't need a gas tank\")\n",
    "        \n",
    "        \n",
    "my_tesla = ElectricCar('tesla', 'model S', 2016)\n",
    "print(my_tesla.get_descriptive_name())\n",
    "my_tesla.describe_battery()"
   ]
  },
  {
   "cell_type": "markdown",
   "metadata": {},
   "source": [
    "### Instances and Attributes "
   ]
  },
  {
   "cell_type": "code",
   "execution_count": 14,
   "metadata": {},
   "outputs": [
    {
     "name": "stdout",
     "output_type": "stream",
     "text": [
      "This car can go approximately 240 miles on a full charge.\n"
     ]
    }
   ],
   "source": [
    "class Car():\n",
    " \"\"\"A simple attempt to represent a car.\"\"\"\n",
    " def __init__(self, make, model, year):\n",
    "    self.make = make\n",
    "    self.model = model\n",
    "    self.year = year\n",
    "    self.odometer_reading = 0\n",
    " \n",
    " def get_descriptive_name(self):\n",
    "    long_name = str(self.year) + ' ' + self.make + ' ' + self.model\n",
    "    return long_name.title()\n",
    "    \n",
    " def read_odometer(self):\n",
    "    print(\"This car has \" + str(self.odometer_reading) + \" miles on it.\")\n",
    " \n",
    " def update_odometer(self, mileage):\n",
    "    if mileage >= self.odometer_reading:\n",
    "        self.odometer_reading = mileage\n",
    "    else:\n",
    "        print(\"You can't roll back an odometer!\")\n",
    "    \n",
    " def increment_odometer(self, miles):\n",
    "    self.odometer_reading += miles\n",
    "\n",
    "\n",
    "\n",
    "class ElectricCar(Car): \n",
    "    \n",
    "    \"\"\"Represent aspects of a car, specific to electric vehicles.\"\"\"\n",
    "    def __init__(self, make, model, year):\n",
    "        \"\"\"Initialize attributes of the parent class\"\"\"\n",
    "        super().__init__(make, model, year)\n",
    "        self.battery = Battery()\n",
    "    \n",
    "class Battery(): \n",
    "    \"\"\"A sipmle attempt to model a battery for an electric car\"\"\"\n",
    "    def __init__(self, battery_size=70):\n",
    "        \"\"\"Initialize the battery's attributes\"\"\"\n",
    "        self.battery_size = battery_size\n",
    "        \n",
    "    def describe_battery(self):\n",
    "        \"Print a statement describing the battery size.\"\n",
    "        print(\"This car has a \", str(self.battery_size), \"Kwh battery\")\n",
    "    \n",
    "    def get_range(self):\n",
    "        \"\"\"Print a statement about the range this battery provides.\"\"\"\n",
    "        if self.battery_size == 70:\n",
    "            range = 240\n",
    "        elif self.battery_size == 85:\n",
    "            range = 270\n",
    " \n",
    "        message = \"This car can go approximately \" + str(range)\n",
    "        message += \" miles on a full charge.\"\n",
    "        print(message)\n",
    "        \n",
    "my_tesla = ElectricCar('tesla', 'model S', 2016)\n",
    "#print(my_tesla.get_descriptive_name())\n",
    "#my_tesla.battery.describe_battery()\n",
    "my_tesla.battery.get_range()"
   ]
  }
 ],
 "metadata": {
  "kernelspec": {
   "display_name": "projectML",
   "language": "python",
   "name": "python3"
  },
  "language_info": {
   "codemirror_mode": {
    "name": "ipython",
    "version": 3
   },
   "file_extension": ".py",
   "mimetype": "text/x-python",
   "name": "python",
   "nbconvert_exporter": "python",
   "pygments_lexer": "ipython3",
   "version": "3.11.4"
  },
  "orig_nbformat": 4
 },
 "nbformat": 4,
 "nbformat_minor": 2
}
